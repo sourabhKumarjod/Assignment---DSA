{
 "cells": [
  {
   "cell_type": "code",
   "execution_count": 3,
   "metadata": {},
   "outputs": [],
   "source": [
    "def leader_in_array(arr, n):\n",
    "    res = []\n",
    "    maxy = -9999\n",
    "    for i in arr[::-1]:\n",
    "        if i > maxy:\n",
    "            maxy = i\n",
    "            res.append(i)\n",
    "    print(res[::-1])"
   ]
  },
  {
   "cell_type": "code",
   "execution_count": 4,
   "metadata": {},
   "outputs": [],
   "source": [
    "def maximum_profit(prices):\n",
    "    left = 0 \n",
    "    right = 1 \n",
    "    max_profit = 0\n",
    "    while right < len(prices):\n",
    "        currentProfit = prices[right] - prices[left] \n",
    "        if prices[left] < prices[right]:\n",
    "            max_profit =max(currentProfit,max_profit)\n",
    "        else:\n",
    "            left = right\n",
    "        right += 1\n",
    "    return max_profit"
   ]
  },
  {
   "cell_type": "code",
   "execution_count": 5,
   "metadata": {},
   "outputs": [],
   "source": [
    "def sum_of_all_subset_XOR_total(nums):\n",
    "        n=len(nums)\n",
    "        all_or=0\n",
    "        for i in range(n):\n",
    "            all_or|=nums[i]\n",
    "        return all_or*(1<<(n-1))"
   ]
  },
  {
   "cell_type": "code",
   "execution_count": null,
   "metadata": {},
   "outputs": [],
   "source": []
  }
 ],
 "metadata": {
  "kernelspec": {
   "display_name": "Python 3 (ipykernel)",
   "language": "python",
   "name": "python3"
  },
  "language_info": {
   "codemirror_mode": {
    "name": "ipython",
    "version": 3
   },
   "file_extension": ".py",
   "mimetype": "text/x-python",
   "name": "python",
   "nbconvert_exporter": "python",
   "pygments_lexer": "ipython3",
   "version": "3.8.5"
  }
 },
 "nbformat": 4,
 "nbformat_minor": 4
}
